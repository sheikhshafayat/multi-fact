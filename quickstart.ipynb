{
 "cells": [
  {
   "cell_type": "markdown",
   "metadata": {},
   "source": [
    "# Quickstart"
   ]
  },
  {
   "cell_type": "markdown",
   "metadata": {},
   "source": [
    "This is a very basic example of how to get started. For more details, please check out the original implementation [readme](https://github.com/shmsw25/FActScore) file"
   ]
  },
  {
   "cell_type": "code",
   "execution_count": 11,
   "metadata": {},
   "outputs": [],
   "source": [
    "import json, os\n",
    "\n",
    "os.environ[\"CUDA_VISIBLE_DEVICES\"] = \"0\" # set you GPU here, optional"
   ]
  },
  {
   "cell_type": "code",
   "execution_count": 14,
   "metadata": {},
   "outputs": [],
   "source": [
    "from factscore.factscorer import FactScorer\n",
    "\n",
    "\n",
    "# Initialize factscorer\n",
    "fs = FactScorer(openai_key=\"./openai-api.txt\", data_dir=\"/path/to/wikipedia/database\",\n",
    "                fact_generation_type=\"Mistral\", model_name=\"retrieval+mistral+npm\"\n",
    "                )\n",
    "\n",
    "# You have the folliowing options for fact_generation_type: InstructGPT (make sure you have a valid openai_key), or Mistral \n",
    "# You have the following options for model_name: \"retrieval+ChatGPT\", \"npm\", \"retrieval+ChatGPT+npm\", \"retrieval+mistral\", \"retrieval+mistral+npm\"\n",
    "# in the data_dir, put the path where you put your wikipedia database"
   ]
  },
  {
   "cell_type": "markdown",
   "metadata": {},
   "source": [
    "Let's work with one given example. This is GPT4 generation in Chinese, which has been translated into English."
   ]
  },
  {
   "cell_type": "code",
   "execution_count": 7,
   "metadata": {},
   "outputs": [],
   "source": [
    "# read json \n",
    "with open(\"generated_bios/translated2en/gpt4-en-translated/Chinese_2en_bios.json\", \"r\") as f:\n",
    "    bios = json.load(f)\n"
   ]
  },
  {
   "cell_type": "code",
   "execution_count": 10,
   "metadata": {},
   "outputs": [],
   "source": [
    "# let's take one example\n",
    "topic = \"Xi Jinping\"\n",
    "bio = bios[topic] # get the model generated bio"
   ]
  },
  {
   "cell_type": "code",
   "execution_count": 13,
   "metadata": {},
   "outputs": [],
   "source": [
    "# now get FActScore:\n",
    "out = fs.get_score([topic], [bio], gamma=10)\n",
    "print(f\"Topic: {topic}\\nFActScore: {out['score']}\\nFActScore w/o length penalty: {out['init_score']}\\n% of responding (not abstaining from answering): {out['respond_ratio']}\\nnum of facts per response: {out['num_facts_per_response']}\\n\")"
   ]
  },
  {
   "cell_type": "code",
   "execution_count": null,
   "metadata": {},
   "outputs": [],
   "source": []
  }
 ],
 "metadata": {
  "kernelspec": {
   "display_name": "multexp",
   "language": "python",
   "name": "python3"
  },
  "language_info": {
   "codemirror_mode": {
    "name": "ipython",
    "version": 3
   },
   "file_extension": ".py",
   "mimetype": "text/x-python",
   "name": "python",
   "nbconvert_exporter": "python",
   "pygments_lexer": "ipython3",
   "version": "3.11.7"
  }
 },
 "nbformat": 4,
 "nbformat_minor": 2
}
